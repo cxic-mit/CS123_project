{
 "cells": [
  {
   "cell_type": "code",
   "execution_count": 3,
   "metadata": {},
   "outputs": [],
   "source": [
    "import pandas as pd"
   ]
  },
  {
   "cell_type": "markdown",
   "metadata": {},
   "source": [
    "### Read in Data"
   ]
  },
  {
   "cell_type": "code",
   "execution_count": 7,
   "metadata": {},
   "outputs": [],
   "source": [
    "raw = pd.read_csv('../../data/friends-000______.txt', delimiter=':', names=['friends'], index_col=0)"
   ]
  },
  {
   "cell_type": "code",
   "execution_count": 8,
   "metadata": {},
   "outputs": [],
   "source": [
    "df_public = raw[(raw['friends'] != 'notfound') & (raw['friends'].notnull()) & (raw['friends'] != 'private')]"
   ]
  },
  {
   "cell_type": "code",
   "execution_count": 9,
   "metadata": {},
   "outputs": [],
   "source": [
    "df_private = raw[raw['friends'] == 'notfound']"
   ]
  },
  {
   "cell_type": "code",
   "execution_count": 10,
   "metadata": {},
   "outputs": [
    {
     "name": "stderr",
     "output_type": "stream",
     "text": [
      "C:\\Users\\roseg\\Anaconda3\\lib\\site-packages\\ipykernel_launcher.py:1: SettingWithCopyWarning: \n",
      "A value is trying to be set on a copy of a slice from a DataFrame.\n",
      "Try using .loc[row_indexer,col_indexer] = value instead\n",
      "\n",
      "See the caveats in the documentation: http://pandas.pydata.org/pandas-docs/stable/indexing.html#indexing-view-versus-copy\n",
      "  \"\"\"Entry point for launching an IPython kernel.\n"
     ]
    }
   ],
   "source": [
    "df_public['friends_list'] = df_public.apply(lambda row: list(map(int, row['friends'].split(\",\"))), axis=1)"
   ]
  },
  {
   "cell_type": "code",
   "execution_count": 11,
   "metadata": {},
   "outputs": [],
   "source": [
    "df_public = df_public.drop('friends', axis=1)"
   ]
  },
  {
   "cell_type": "code",
   "execution_count": 12,
   "metadata": {},
   "outputs": [],
   "source": [
    "friends_dict = df_public.to_dict()['friends_list']"
   ]
  },
  {
   "cell_type": "markdown",
   "metadata": {},
   "source": [
    "### Create an inverse dictionary"
   ]
  },
  {
   "cell_type": "code",
   "execution_count": 13,
   "metadata": {},
   "outputs": [],
   "source": [
    "inverse_friends_dict = {}\n",
    "for k, v in friends_dict.items():\n",
    "    for x in v:\n",
    "        inverse_friends_dict.setdefault(x, []).append(k)"
   ]
  },
  {
   "cell_type": "code",
   "execution_count": 14,
   "metadata": {},
   "outputs": [],
   "source": [
    "inverse_friends_dict.get(105)"
   ]
  },
  {
   "cell_type": "markdown",
   "metadata": {},
   "source": [
    "### Let's check if the users who had private friend lists show up"
   ]
  },
  {
   "cell_type": "code",
   "execution_count": 20,
   "metadata": {},
   "outputs": [
    {
     "name": "stdout",
     "output_type": "stream",
     "text": [
      "602878 [54505, 81183, 104158, 131871]\n",
      "645274 [234549]\n",
      "654736 [251074]\n",
      "748206 [48995, 328023, 365441, 406481, 416651, 498209, 498607, 515198]\n",
      "776150 [101420, 108589]\n",
      "814007 [17729, 23487, 49481, 128599, 184359, 233709, 287774, 292428, 367076, 388998, 417260, 423512, 433004, 436103, 436777, 439751, 441824, 444465, 450477, 498572, 499608, 501764, 502774, 512556, 533193, 537080, 539396, 589279, 595533]\n",
      "869587 [452980, 491024, 557099, 585390, 679974, 744301, 783574]\n",
      "899340 [105913]\n",
      "988000 [270143, 716233]\n"
     ]
    }
   ],
   "source": [
    "for i in df_private.loc[100:].index:\n",
    "    if inverse_friends_dict.get(i):\n",
    "        print(i, inverse_friends_dict.get(i))"
   ]
  },
  {
   "cell_type": "markdown",
   "metadata": {},
   "source": [
    "### Found 9 users' friends!"
   ]
  }
 ],
 "metadata": {
  "kernelspec": {
   "display_name": "Python 3",
   "language": "python",
   "name": "python3"
  },
  "language_info": {
   "codemirror_mode": {
    "name": "ipython",
    "version": 3
   },
   "file_extension": ".py",
   "mimetype": "text/x-python",
   "name": "python",
   "nbconvert_exporter": "python",
   "pygments_lexer": "ipython3",
   "version": "3.6.4"
  }
 },
 "nbformat": 4,
 "nbformat_minor": 2
}
